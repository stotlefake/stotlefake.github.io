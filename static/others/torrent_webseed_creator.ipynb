{
  "nbformat": 4,
  "nbformat_minor": 0,
  "metadata": {
    "colab": {
      "name": "torrent-webseed-creator.ipynb",
      "provenance": [],
      "collapsed_sections": [],
      "include_colab_link": true
    },
    "kernelspec": {
      "name": "python3",
      "display_name": "Python 3"
    }
  },
  "cells": [
    {
      "cell_type": "markdown",
      "metadata": {
        "id": "view-in-github",
        "colab_type": "text"
      },
      "source": [
        "<a href=\"https://colab.research.google.com/github/arifhamed/arifhamed.github.io/blob/main/static/others/torrent_webseed_creator.ipynb\" target=\"_parent\"><img src=\"https://colab.research.google.com/assets/colab-badge.svg\" alt=\"Open In Colab\"/></a>"
      ]
    },
    {
      "cell_type": "markdown",
      "metadata": {
        "id": "aQuWDmfm9YOi"
      },
      "source": [
        "# [Torrent Webseed Creator on Google Colaboratory](https://github.com/AnimMouse/torrent-webseed-creator-colab)\n",
        "For piece size, 0 for automatic calculation, or use the recommended piece size on the README.md file."
      ]
    },
    {
      "cell_type": "code",
      "metadata": {
        "id": "VTdPT6jSh6jZ",
        "cellView": "form"
      },
      "source": [
        "#@title Data Input\n",
        "import os\n",
        "name = 'ba4add58-215a-4733-9c06-5d176986040e.rar' #@param {type:\"string\"}\n",
        "comment = '' #@param {type:\"string\"}\n",
        "url = 'https://github.com/arifhamed/files-001/raw/main/ba4add58-215a-4733-9c06-5d176986040e.rar' #@param {type:\"string\"}\n",
        "file_name = 'ba4add58-215a-4733-9c06-5d176986040e.rar' #@param {type:\"string\"}\n",
        "piece_size = \"0\" #@param [\"0\", \"512\", \"1024\", \"2048\", \"4096\", \"8192\", \"16384\", \"32768\"]\n",
        "# As Google Colaboratory's forms does not work directly on os.environ, I just made it a Python variable and place it on os.environ\n",
        "os.environ[\"name\"] = name\n",
        "os.environ['comment'] = comment\n",
        "os.environ['url'] = url\n",
        "os.environ['file_name'] = file_name\n",
        "os.environ['piece_size'] = piece_size"
      ],
      "execution_count": 1,
      "outputs": []
    },
    {
      "cell_type": "markdown",
      "metadata": {
        "id": "FexiyATtNwTG"
      },
      "source": [
        "### Install Dependency\n",
        "Powered by [py3createtorrent](https://github.com/rsnitsch/py3createtorrent) to create a torrent file."
      ]
    },
    {
      "cell_type": "code",
      "metadata": {
        "id": "m6hF0emftx4h",
        "colab": {
          "base_uri": "https://localhost:8080/"
        },
        "outputId": "89a43c77-c16d-4829-96d0-39f01f94d09a"
      },
      "source": [
        "%pip install py3createtorrent"
      ],
      "execution_count": 2,
      "outputs": [
        {
          "output_type": "stream",
          "name": "stdout",
          "text": [
            "Collecting py3createtorrent\n",
            "  Downloading py3createtorrent-1.0.1-py3-none-any.whl (12 kB)\n",
            "Collecting bencode.py\n",
            "  Downloading bencode.py-4.0.0-py2.py3-none-any.whl (18 kB)\n",
            "Installing collected packages: bencode.py, py3createtorrent\n",
            "Successfully installed bencode.py-4.0.0 py3createtorrent-1.0.1\n"
          ]
        }
      ]
    },
    {
      "cell_type": "markdown",
      "metadata": {
        "id": "E1PJwspfMDdQ"
      },
      "source": [
        "### Download File"
      ]
    },
    {
      "cell_type": "code",
      "metadata": {
        "id": "cxMeP-UZMJPB",
        "colab": {
          "base_uri": "https://localhost:8080/"
        },
        "outputId": "d4a076b6-0c38-4897-96b3-b273b4bb5cd9"
      },
      "source": [
        "!wget -nv -O \"$file_name\" \"$url\""
      ],
      "execution_count": 3,
      "outputs": [
        {
          "output_type": "stream",
          "name": "stdout",
          "text": [
            "2022-02-18 08:14:23 URL:https://raw.githubusercontent.com/arifhamed/files-001/main/ba4add58-215a-4733-9c06-5d176986040e.rar [68979390/68979390] -> \"ba4add58-215a-4733-9c06-5d176986040e.rar\" [1]\n"
          ]
        }
      ]
    },
    {
      "cell_type": "markdown",
      "metadata": {
        "id": "s33K1LqoMOt6"
      },
      "source": [
        "### Create torrent using py3createtorrent"
      ]
    },
    {
      "cell_type": "code",
      "metadata": {
        "id": "69bcY3rrMP1B",
        "colab": {
          "base_uri": "https://localhost:8080/"
        },
        "outputId": "8e8f5527-4e09-48e9-840f-a6a6ec40489d"
      },
      "source": [
        "!py3createtorrent -p \"$piece_size\" -c \"$comment\" -s \"torrent-webseed-creator\" -o \"$name.torrent\" --webseed \"$url\" \"$file_name\""
      ],
      "execution_count": 4,
      "outputs": [
        {
          "output_type": "stream",
          "name": "stdout",
          "text": [
            "Successfully created torrent:\n",
            "  Name:                ba4add58-215a-4733-9c06-5d176986040e.rar\n",
            "  Size:                65.78 MiB\n",
            "  Pieces:              264 x 256 KiB\n",
            "  Comment:             (none)\n",
            "  Private:             no\n",
            "  Creation date:       2022-02-18 08:14:24\n",
            "  DHT bootstrap nodes: (none)\n",
            "  Webseeds:            ['https://github.com/arifhamed/files-001/raw/main/ba4add58-215a-4733-9c06-5d176986040e.rar']\n",
            "  Primary tracker:     (none)\n",
            "  Backup trackers:\n",
            "    (none)\n"
          ]
        }
      ]
    },
    {
      "cell_type": "markdown",
      "metadata": {
        "id": "F1T6FTXRMU3o"
      },
      "source": [
        "### Download torrent file"
      ]
    },
    {
      "cell_type": "code",
      "source": [
        "from google.colab import files\n",
        "import os\n",
        "name = os.environ[\"name\"]\n",
        "files.download(f'{name}.torrent')"
      ],
      "metadata": {
        "colab": {
          "base_uri": "https://localhost:8080/",
          "height": 17
        },
        "id": "YVa4fwAMj7yF",
        "outputId": "7b3dcdd5-1f43-4a9d-882b-2007b6bd3526"
      },
      "execution_count": 5,
      "outputs": [
        {
          "output_type": "display_data",
          "data": {
            "application/javascript": [
              "\n",
              "    async function download(id, filename, size) {\n",
              "      if (!google.colab.kernel.accessAllowed) {\n",
              "        return;\n",
              "      }\n",
              "      const div = document.createElement('div');\n",
              "      const label = document.createElement('label');\n",
              "      label.textContent = `Downloading \"${filename}\": `;\n",
              "      div.appendChild(label);\n",
              "      const progress = document.createElement('progress');\n",
              "      progress.max = size;\n",
              "      div.appendChild(progress);\n",
              "      document.body.appendChild(div);\n",
              "\n",
              "      const buffers = [];\n",
              "      let downloaded = 0;\n",
              "\n",
              "      const channel = await google.colab.kernel.comms.open(id);\n",
              "      // Send a message to notify the kernel that we're ready.\n",
              "      channel.send({})\n",
              "\n",
              "      for await (const message of channel.messages) {\n",
              "        // Send a message to notify the kernel that we're ready.\n",
              "        channel.send({})\n",
              "        if (message.buffers) {\n",
              "          for (const buffer of message.buffers) {\n",
              "            buffers.push(buffer);\n",
              "            downloaded += buffer.byteLength;\n",
              "            progress.value = downloaded;\n",
              "          }\n",
              "        }\n",
              "      }\n",
              "      const blob = new Blob(buffers, {type: 'application/binary'});\n",
              "      const a = document.createElement('a');\n",
              "      a.href = window.URL.createObjectURL(blob);\n",
              "      a.download = filename;\n",
              "      div.appendChild(a);\n",
              "      a.click();\n",
              "      div.remove();\n",
              "    }\n",
              "  "
            ],
            "text/plain": [
              "<IPython.core.display.Javascript object>"
            ]
          },
          "metadata": {}
        },
        {
          "output_type": "display_data",
          "data": {
            "application/javascript": [
              "download(\"download_a6d9abb5-9304-4a4d-879d-7e3f3d36e879\", \"ba4add58-215a-4733-9c06-5d176986040e.rar.torrent\", 5597)"
            ],
            "text/plain": [
              "<IPython.core.display.Javascript object>"
            ]
          },
          "metadata": {}
        }
      ]
    }
  ]
}